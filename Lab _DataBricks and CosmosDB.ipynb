{
 "cells": [
  {
   "cell_type": "code",
   "execution_count": 0,
   "metadata": {
    "application/vnd.databricks.v1+cell": {
     "cellMetadata": {
      "byteLimit": 2048000,
      "rowLimit": 10000
     },
     "inputWidgets": {},
     "nuid": "4c71e20d-fff6-452f-9aab-4708a9134477",
     "showTitle": false,
     "title": ""
    }
   },
   "outputs": [],
   "source": [
    "df = spark.read.option(\"multiline\", \"true\").json(\"dbfs:/FileStore/FileStore/movies-1.json\")"
   ]
  },
  {
   "cell_type": "code",
   "execution_count": 0,
   "metadata": {
    "application/vnd.databricks.v1+cell": {
     "cellMetadata": {
      "byteLimit": 2048000,
      "rowLimit": 10000
     },
     "inputWidgets": {},
     "nuid": "532d5221-e5e6-42d6-83c3-e1edf537fd2d",
     "showTitle": false,
     "title": ""
    }
   },
   "outputs": [
    {
     "output_type": "stream",
     "name": "stdout",
     "output_type": "stream",
     "text": [
      "root\n |-- cast: array (nullable = true)\n |    |-- element: string (containsNull = true)\n |-- extract: string (nullable = true)\n |-- genres: array (nullable = true)\n |    |-- element: string (containsNull = true)\n |-- href: string (nullable = true)\n |-- thumbnail: string (nullable = true)\n |-- thumbnail_height: long (nullable = true)\n |-- thumbnail_width: long (nullable = true)\n |-- title: string (nullable = true)\n |-- year: long (nullable = true)\n\n"
     ]
    }
   ],
   "source": [
    "df.printSchema()"
   ]
  },
  {
   "cell_type": "code",
   "execution_count": 0,
   "metadata": {
    "application/vnd.databricks.v1+cell": {
     "cellMetadata": {
      "byteLimit": 2048000,
      "rowLimit": 10000
     },
     "inputWidgets": {},
     "nuid": "eb49442f-2673-4120-91a3-dab8a21ccdd3",
     "showTitle": false,
     "title": ""
    }
   },
   "outputs": [
    {
     "output_type": "stream",
     "name": "stdout",
     "output_type": "stream",
     "text": [
      "+-------------+--------------------+--------------------+--------------------+--------------------+----------------+---------------+--------------------+----+\n|         cast|             extract|              genres|                href|           thumbnail|thumbnail_height|thumbnail_width|               title|year|\n+-------------+--------------------+--------------------+--------------------+--------------------+----------------+---------------+--------------------+----+\n|           []|                NULL|                  []|                NULL|                NULL|            NULL|           NULL|After Dark in Cen...|1900|\n|           []|                NULL|                  []|                NULL|                NULL|            NULL|           NULL|Boarding School G...|1900|\n|           []|                NULL|                  []|                NULL|                NULL|            NULL|           NULL|Buffalo Bill's Wi...|1900|\n|           []|                NULL|                  []|                NULL|                NULL|            NULL|           NULL|              Caught|1900|\n|           []|Clowns Spinning H...|            [Silent]|Clowns_Spinning_Hats|                NULL|            NULL|           NULL|Clowns Spinning Hats|1900|\n|           []|Capture of Boer B...|[Short, Documenta...|Capture_of_Boer_B...|https://upload.wi...|             240|            320|Capture of Boer B...|1900|\n|           []|The Enchanted Dra...|            [Silent]|The_Enchanted_Dra...|https://upload.wi...|             240|            320|The Enchanted Dra...|1900|\n|[Paul Boyton]|Feeding Sea Lions...|     [Short, Silent]|   Feeding_Sea_Lions|                NULL|            NULL|           NULL|   Feeding Sea Lions|1900|\n|           []|                NULL|            [Comedy]|                NULL|                NULL|            NULL|           NULL|How to Make a Fat...|1900|\n|           []|                NULL|                  []|                NULL|                NULL|            NULL|           NULL|     New Life Rescue|1900|\n+-------------+--------------------+--------------------+--------------------+--------------------+----------------+---------------+--------------------+----+\nonly showing top 10 rows\n\n"
     ]
    }
   ],
   "source": [
    "df.show(10)"
   ]
  },
  {
   "cell_type": "code",
   "execution_count": 0,
   "metadata": {
    "application/vnd.databricks.v1+cell": {
     "cellMetadata": {
      "byteLimit": 2048000,
      "rowLimit": 10000
     },
     "inputWidgets": {},
     "nuid": "c3337f02-7a9f-4e09-ac0d-9e87d3a6c562",
     "showTitle": false,
     "title": ""
    }
   },
   "outputs": [
    {
     "output_type": "execute_result",
     "data": {
      "text/plain": [
       "DataFrame[cast: array<string>, extract: string, genres: array<string>, href: string, thumbnail: string, thumbnail_height: bigint, thumbnail_width: bigint, title: string, year: bigint]"
      ]
     },
     "execution_count": 4,
     "metadata": {},
     "output_type": "execute_result"
    }
   ],
   "source": [
    "df.na.drop()"
   ]
  },
  {
   "cell_type": "code",
   "execution_count": 0,
   "metadata": {
    "application/vnd.databricks.v1+cell": {
     "cellMetadata": {
      "byteLimit": 2048000,
      "rowLimit": 10000
     },
     "inputWidgets": {},
     "nuid": "bb30aecc-ba84-4a34-baa4-aa6ca7329182",
     "showTitle": false,
     "title": ""
    }
   },
   "outputs": [],
   "source": [
    "df = df.dropDuplicates([\"title\", \"year\"])"
   ]
  },
  {
   "cell_type": "code",
   "execution_count": 0,
   "metadata": {
    "application/vnd.databricks.v1+cell": {
     "cellMetadata": {
      "byteLimit": 2048000,
      "rowLimit": 10000
     },
     "inputWidgets": {},
     "nuid": "52db782e-3956-435c-a274-10a54338a76b",
     "showTitle": false,
     "title": ""
    }
   },
   "outputs": [
    {
     "output_type": "stream",
     "name": "stdout",
     "output_type": "stream",
     "text": [
      "+--------------------+--------------------+--------------------+--------------------+--------------------+----------------+---------------+--------------------+----+-------+\n|                cast|             extract|              genres|                href|           thumbnail|thumbnail_height|thumbnail_width|               title|year|centure|\n+--------------------+--------------------+--------------------+--------------------+--------------------+----------------+---------------+--------------------+----+-------+\n|                  []|                NULL|                  []|                NULL|                NULL|            NULL|           NULL| The Automobile Race|1904|     20|\n|                  []|Mrs. Jones Entert...|[Comedy, Short, S...|Mrs._Jones_Entert...|https://upload.wi...|             189|            320|Mrs. Jones Entert...|1909|     20|\n|                  []|                NULL|                  []|                NULL|                NULL|            NULL|           NULL|The Old Soldier's...|1909|     20|\n|                  []|A Wreath in Time ...|    [Comedy, Silent]|    A_Wreath_in_Time|https://upload.wi...|             226|            320|    A Wreath in Time|1909|     20|\n|[Edgar G. Wynn, E...|Brown of Harvard ...|     [Drama, Silent]|Brown_of_Harvard_...|https://upload.wi...|             473|            320|    Brown of Harvard|1911|     20|\n+--------------------+--------------------+--------------------+--------------------+--------------------+----------------+---------------+--------------------+----+-------+\nonly showing top 5 rows\n\n"
     ]
    }
   ],
   "source": [
    "from pyspark.sql.functions import when;\n",
    "df = df.withColumn(\"centure\", when(df[\"year\"] >= 2000, \"21\").otherwise(\"20\"))\n",
    "df.show(5)"
   ]
  },
  {
   "cell_type": "code",
   "execution_count": 0,
   "metadata": {
    "application/vnd.databricks.v1+cell": {
     "cellMetadata": {
      "byteLimit": 2048000,
      "rowLimit": 10000
     },
     "inputWidgets": {},
     "nuid": "fc135132-76fb-406f-aaa3-94372749e413",
     "showTitle": false,
     "title": ""
    }
   },
   "outputs": [
    {
     "output_type": "stream",
     "name": "stdout",
     "output_type": "stream",
     "text": [
      "+--------------------+--------------------+--------------------+--------------------+--------------------+----------------+---------------+--------------------+----+-------+\n|                cast|             extract|              genres|                href|           thumbnail|thumbnail_height|thumbnail_width|               title|year|centure|\n+--------------------+--------------------+--------------------+--------------------+--------------------+----------------+---------------+--------------------+----+-------+\n|[Jesse Eisenberg,...|American Ultra is...|    [Action, Comedy]|      American_Ultra|https://upload.wi...|             380|            256|      American Ultra|2015|     21|\n|[Ryan Reynolds, J...|Pokémon Detective...|[Comedy, Fantasy,...|Detective_Pikachu...|https://upload.wi...|             385|            260|Pokémon Detective...|2019|     21|\n|[Amy Ryan, Nick R...|Strange but True ...|          [Thriller]|Strange_but_True_...|https://upload.wi...|             383|            259|    Strange but True|2019|     21|\n+--------------------+--------------------+--------------------+--------------------+--------------------+----------------+---------------+--------------------+----+-------+\nonly showing top 3 rows\n\n"
     ]
    }
   ],
   "source": [
    "df_filtered = df.filter((df.year >= 2015))\n",
    "df_filtered.show(3)"
   ]
  },
  {
   "cell_type": "code",
   "execution_count": 0,
   "metadata": {
    "application/vnd.databricks.v1+cell": {
     "cellMetadata": {
      "byteLimit": 2048000,
      "rowLimit": 10000
     },
     "inputWidgets": {},
     "nuid": "11095899-3f1c-4c59-8507-34b0c7c528c0",
     "showTitle": false,
     "title": ""
    }
   },
   "outputs": [],
   "source": [
    "writeConfig = {\n",
    "    \"Endpoint\": \"https://it-step-cosmos-db2.documents.azure.com:443/\",\n",
    "    \"Masterkey\": \"\",\n",
    "    \"Database\": \"MediaDB\",\n",
    "    \"Collection\": \"Movies\",\n",
    "    \"Upsert\": \"true\"\n",
    "}"
   ]
  },
  {
   "cell_type": "code",
   "execution_count": 0,
   "metadata": {
    "application/vnd.databricks.v1+cell": {
     "cellMetadata": {
      "byteLimit": 2048000,
      "rowLimit": 10000
     },
     "inputWidgets": {},
     "nuid": "cee80caa-8762-4bcc-b897-c3a344dfe47b",
     "showTitle": false,
     "title": ""
    }
   },
   "outputs": [],
   "source": [
    "df.write.format(\"com.microsoft.azure.cosmosdb.spark\").options(**writeConfig).save()"
   ]
  },
  {
   "cell_type": "code",
   "execution_count": 0,
   "metadata": {
    "application/vnd.databricks.v1+cell": {
     "cellMetadata": {
      "byteLimit": 2048000,
      "rowLimit": 10000
     },
     "inputWidgets": {},
     "nuid": "b327127a-d4a9-4345-b02e-6d9324e57012",
     "showTitle": false,
     "title": ""
    }
   },
   "outputs": [],
   "source": [
    "readConfig = {\n",
    "    \"Endpoint\": \"https://it-step-cosmos-db2.documents.azure.com:443/\",\n",
    "    \"Masterkey\": \"\",\n",
    "    \"Database\": \"MediaDB\",\n",
    "    \"Collection\": \"Movies\"\n",
    "}"
   ]
  },
  {
   "cell_type": "code",
   "execution_count": 0,
   "metadata": {
    "application/vnd.databricks.v1+cell": {
     "cellMetadata": {
      "byteLimit": 2048000,
      "rowLimit": 10000
     },
     "inputWidgets": {},
     "nuid": "d8b0acf5-3e2c-4836-a2fd-c7bc26fa8357",
     "showTitle": false,
     "title": ""
    }
   },
   "outputs": [],
   "source": [
    "df_cosmos = spark.read.format(\"com.microsoft.azure.cosmosdb.spark\").options(**readConfig).load()\n"
   ]
  }
 ],
 "metadata": {
  "application/vnd.databricks.v1+notebook": {
   "dashboards": [],
   "language": "python",
   "notebookMetadata": {
    "pythonIndentUnit": 4
   },
   "notebookName": "Lab \"DataBricks and CosmosDB\"",
   "widgets": {}
  }
 },
 "nbformat": 4,
 "nbformat_minor": 0
}
