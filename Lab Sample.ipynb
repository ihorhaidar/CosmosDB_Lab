{
 "cells": [
  {
   "cell_type": "code",
   "execution_count": null,
   "metadata": {
    "application/vnd.databricks.v1+cell": {
     "cellMetadata": {
      "byteLimit": 2048000,
      "rowLimit": 10000
     },
     "inputWidgets": {},
     "nuid": "1340dee6-88dc-4bb8-b200-0d8e70f0e544",
     "showTitle": false,
     "title": ""
    }
   },
   "outputs": [],
   "source": [
    "# Set configuration settings\n",
    "config = {\n",
    "    \"spark.cosmos.accountEndpoint\": \"https://it-step-cosmos-db2.documents.azure.com:443/\",\n",
    "    \"spark.cosmos.accountKey\": \"\",\n",
    "    \"spark.cosmos.database\": \"cosmicworks\",\n",
    "    \"spark.cosmos.container\": \"products\"\n",
    "}\n"
   ]
  },
  {
   "cell_type": "code",
   "execution_count": null,
   "metadata": {
    "application/vnd.databricks.v1+cell": {
     "cellMetadata": {
      "byteLimit": 2048000,
      "rowLimit": 10000
     },
     "inputWidgets": {},
     "nuid": "ccc86ad5-d70f-4697-a2d4-47554178046e",
     "showTitle": false,
     "title": ""
    }
   },
   "outputs": [],
   "source": [
    "# Configure Catalog Api    \n",
    "spark.conf.set(\"spark.sql.catalog.cosmosCatalog\", \"com.azure.cosmos.spark.CosmosCatalog\")\n",
    "spark.conf.set(\"spark.sql.catalog.cosmosCatalog.spark.cosmos.accountEndpoint\", config[\"spark.cosmos.accountEndpoint\"])\n",
    "spark.conf.set(\"spark.sql.catalog.cosmosCatalog.spark.cosmos.accountKey\", config[\"spark.cosmos.accountKey\"])\n"
   ]
  },
  {
   "cell_type": "code",
   "execution_count": null,
   "metadata": {
    "application/vnd.databricks.v1+cell": {
     "cellMetadata": {
      "byteLimit": 2048000,
      "rowLimit": 10000
     },
     "inputWidgets": {},
     "nuid": "531f41c7-ad37-42dc-b70c-52237139ac3d",
     "showTitle": false,
     "title": ""
    }
   },
   "outputs": [
    {
     "data": {
      "text/plain": [
       "DataFrame[]"
      ]
     },
     "execution_count": 3,
     "metadata": {},
     "output_type": "execute_result"
    }
   ],
   "source": [
    "# Create a database using the Catalog API\n",
    "spark.sql(\"CREATE DATABASE IF NOT EXISTS cosmosCatalog.cosmicworks;\")\n"
   ]
  },
  {
   "cell_type": "code",
   "execution_count": null,
   "metadata": {
    "application/vnd.databricks.v1+cell": {
     "cellMetadata": {
      "byteLimit": 2048000,
      "rowLimit": 10000
     },
     "inputWidgets": {},
     "nuid": "aeeb4cdb-40fc-411a-92f2-d6b4c7baba72",
     "showTitle": false,
     "title": ""
    }
   },
   "outputs": [
    {
     "data": {
      "text/plain": [
       "DataFrame[]"
      ]
     },
     "execution_count": 4,
     "metadata": {},
     "output_type": "execute_result"
    }
   ],
   "source": [
    "# Create a products container using the Catalog API\n",
    "spark.sql(\"CREATE TABLE IF NOT EXISTS cosmosCatalog.cosmicworks.products USING cosmos.oltp TBLPROPERTIES(partitionKeyPath = '/category', autoScaleMaxThroughput = '1000')\")\n"
   ]
  },
  {
   "cell_type": "code",
   "execution_count": null,
   "metadata": {
    "application/vnd.databricks.v1+cell": {
     "cellMetadata": {
      "byteLimit": 2048000,
      "rowLimit": 10000
     },
     "inputWidgets": {},
     "nuid": "e77caf97-b469-4ebd-9708-b2f5a09d10f0",
     "showTitle": false,
     "title": ""
    }
   },
   "outputs": [
    {
     "data": {
      "text/plain": [
       "DataFrame[]"
      ]
     },
     "execution_count": 5,
     "metadata": {},
     "output_type": "execute_result"
    }
   ],
   "source": [
    "# Create an employees container using the Catalog API\n",
    "spark.sql(\"CREATE TABLE IF NOT EXISTS cosmosCatalog.cosmicworks.employees USING cosmos.oltp TBLPROPERTIES(partitionKeyPath = '/organization,/department,/team', manualThroughput = '400')\")\n"
   ]
  },
  {
   "cell_type": "code",
   "execution_count": null,
   "metadata": {
    "application/vnd.databricks.v1+cell": {
     "cellMetadata": {
      "byteLimit": 2048000,
      "rowLimit": 10000
     },
     "inputWidgets": {},
     "nuid": "c99eb27a-0515-4c0e-b4e1-d53a26a82866",
     "showTitle": false,
     "title": ""
    }
   },
   "outputs": [],
   "source": [
    "# Create sample data\n",
    "products = (\n",
    "    (\"68719518391\", \"gear-surf-surfboards\", \"Yamba Surfboard\", 12, 850.00, False),\n",
    "    (\"68719518371\", \"gear-surf-surfboards\", \"Kiama Classic Surfboard\", 25, 790.00, True)\n",
    ")"
   ]
  },
  {
   "cell_type": "code",
   "execution_count": null,
   "metadata": {
    "application/vnd.databricks.v1+cell": {
     "cellMetadata": {
      "byteLimit": 2048000,
      "rowLimit": 10000
     },
     "inputWidgets": {},
     "nuid": "54e5d78b-fbaf-4d9b-8648-2d2223c73555",
     "showTitle": false,
     "title": ""
    }
   },
   "outputs": [],
   "source": [
    "# Ingest sample data\n",
    "spark.createDataFrame(products) \\\n",
    "    .toDF(\"id\", \"category\", \"name\", \"quantity\", \"price\", \"clearance\") \\\n",
    "    .write \\\n",
    "    .format(\"cosmos.oltp\") \\\n",
    "    .options(**config) \\\n",
    "    .mode(\"APPEND\") \\\n",
    "    .save()\n"
   ]
  },
  {
   "cell_type": "code",
   "execution_count": null,
   "metadata": {
    "application/vnd.databricks.v1+cell": {
     "cellMetadata": {
      "byteLimit": 2048000,
      "rowLimit": 10000
     },
     "inputWidgets": {},
     "nuid": "c4b310a0-177f-418a-a151-b9bc8e12524b",
     "showTitle": false,
     "title": ""
    }
   },
   "outputs": [],
   "source": [
    "# Load data\n",
    "df = spark.read.format(\"cosmos.oltp\") \\\n",
    "    .options(**config) \\\n",
    "    .option(\"spark.cosmos.read.inferSchema.enabled\", \"true\") \\\n",
    "    .load()\n"
   ]
  },
  {
   "cell_type": "code",
   "execution_count": null,
   "metadata": {
    "application/vnd.databricks.v1+cell": {
     "cellMetadata": {
      "byteLimit": 2048000,
      "rowLimit": 10000
     },
     "inputWidgets": {},
     "nuid": "0f98d28e-1f9c-4f60-a561-0d31235f108d",
     "showTitle": false,
     "title": ""
    }
   },
   "outputs": [
    {
     "name": "stdout",
     "output_type": "stream",
     "text": [
      "root\n",
      " |-- name: string (nullable = true)\n",
      " |-- quantity: integer (nullable = true)\n",
      " |-- clearance: boolean (nullable = true)\n",
      " |-- price: double (nullable = true)\n",
      " |-- id: string (nullable = false)\n",
      " |-- category: string (nullable = true)\n",
      "\n"
     ]
    }
   ],
   "source": [
    "df.printSchema()"
   ]
  },
  {
   "cell_type": "code",
   "execution_count": null,
   "metadata": {
    "application/vnd.databricks.v1+cell": {
     "cellMetadata": {
      "byteLimit": 2048000,
      "rowLimit": 10000
     },
     "inputWidgets": {},
     "nuid": "24768ece-6c6b-423b-8fae-8a4e83279ae5",
     "showTitle": false,
     "title": ""
    }
   },
   "outputs": [
    {
     "name": "stdout",
     "output_type": "stream",
     "text": [
      "+--------------------+--------+---------+-----+-----------+--------------------+\n",
      "|                name|quantity|clearance|price|         id|            category|\n",
      "+--------------------+--------+---------+-----+-----------+--------------------+\n",
      "|Kiama Classic Sur...|      25|     true|790.0|68719518371|gear-surf-surfboards|\n",
      "+--------------------+--------+---------+-----+-----------+--------------------+\n",
      "\n"
     ]
    }
   ],
   "source": [
    "df.filter(df.clearance == True).show(1)"
   ]
  },
  {
   "cell_type": "code",
   "execution_count": null,
   "metadata": {
    "application/vnd.databricks.v1+cell": {
     "cellMetadata": {
      "byteLimit": 2048000,
      "rowLimit": 10000
     },
     "inputWidgets": {},
     "nuid": "da21ac07-35ae-467c-b68e-6d32c8c403c5",
     "showTitle": false,
     "title": ""
    }
   },
   "outputs": [
    {
     "name": "stdout",
     "output_type": "stream",
     "text": [
      "+--------------------+--------+---------+-----+-----------+--------------------+\n",
      "|                name|quantity|clearance|price|         id|            category|\n",
      "+--------------------+--------+---------+-----+-----------+--------------------+\n",
      "|     Yamba Surfboard|      12|    false|850.0|68719518391|gear-surf-surfboards|\n",
      "|Kiama Classic Sur...|      25|     true|790.0|68719518371|gear-surf-surfboards|\n",
      "+--------------------+--------+---------+-----+-----------+--------------------+\n",
      "\n"
     ]
    }
   ],
   "source": [
    "# Render results of raw query\n",
    "rawQuery = \"SELECT * FROM cosmosCatalog.cosmicworks.products WHERE price > 700\"\n",
    "rawDF = spark.sql(rawQuery)\n",
    "rawDF.show()"
   ]
  },
  {
   "cell_type": "code",
   "execution_count": null,
   "metadata": {
    "application/vnd.databricks.v1+cell": {
     "cellMetadata": {
      "byteLimit": 2048000,
      "rowLimit": 10000
     },
     "inputWidgets": {},
     "nuid": "2d290ffe-b693-4ac1-9000-eca88d2e2d74",
     "showTitle": false,
     "title": ""
    }
   },
   "outputs": [],
   "source": [
    "# Copy and modify configuration\n",
    "configPatch = dict(config)\n",
    "configPatch[\"spark.cosmos.write.strategy\"] = \"ItemPatch\"\n",
    "configPatch[\"spark.cosmos.write.bulk.enabled\"] = \"false\"\n",
    "configPatch[\"spark.cosmos.write.patch.defaultOperationType\"] = \"Set\"\n",
    "configPatch[\"spark.cosmos.write.patch.columnConfigs\"] = \"[col(name).op(set)]\"\n"
   ]
  },
  {
   "cell_type": "code",
   "execution_count": null,
   "metadata": {
    "application/vnd.databricks.v1+cell": {
     "cellMetadata": {
      "byteLimit": 2048000,
      "rowLimit": 10000
     },
     "inputWidgets": {},
     "nuid": "0ab020e2-8fd4-461a-a2bf-291d44b97fd6",
     "showTitle": false,
     "title": ""
    }
   },
   "outputs": [],
   "source": [
    "# Specify target item id and partition key\n",
    "targetItemId = \"68719518391\"\n",
    "targetItemPartitionKey = \"gear-surf-surfboards\"\n"
   ]
  },
  {
   "cell_type": "code",
   "execution_count": null,
   "metadata": {
    "application/vnd.databricks.v1+cell": {
     "cellMetadata": {
      "byteLimit": 2048000,
      "rowLimit": 10000
     },
     "inputWidgets": {},
     "nuid": "e861ed24-8d2f-4a49-877b-ec1fa3654a1d",
     "showTitle": false,
     "title": ""
    }
   },
   "outputs": [],
   "source": [
    "patchProducts = [{\"id\": f\"{targetItemId}\", \"category\": f\"{targetItemPartitionKey}\", \"name\": \"Yamba New Surfboard\"}]"
   ]
  },
  {
   "cell_type": "code",
   "execution_count": null,
   "metadata": {
    "application/vnd.databricks.v1+cell": {
     "cellMetadata": {
      "byteLimit": 2048000,
      "rowLimit": 10000
     },
     "inputWidgets": {},
     "nuid": "3b45557e-e8fe-425b-8160-7bd83c1aadb3",
     "showTitle": false,
     "title": ""
    }
   },
   "outputs": [],
   "source": [
    "spark.createDataFrame(patchProducts) \\\n",
    "    .write \\\n",
    "    .format(\"cosmos.oltp\") \\\n",
    "    .options(**configPatch) \\\n",
    "    .mode(\"APPEND\") \\\n",
    "    .save()\n"
   ]
  },
  {
   "cell_type": "code",
   "execution_count": null,
   "metadata": {
    "application/vnd.databricks.v1+cell": {
     "cellMetadata": {
      "byteLimit": 2048000,
      "rowLimit": 10000
     },
     "inputWidgets": {},
     "nuid": "28b34e6a-5af7-44ed-9de9-82ffc34d2a07",
     "showTitle": false,
     "title": ""
    }
   },
   "outputs": [
    {
     "name": "stdout",
     "output_type": "stream",
     "text": [
      "+-------------------+--------+---------+-----+-----------+--------------------+\n",
      "|               name|quantity|clearance|price|         id|            category|\n",
      "+-------------------+--------+---------+-----+-----------+--------------------+\n",
      "|Yamba New Surfboard|      12|    false|850.0|68719518391|gear-surf-surfboards|\n",
      "+-------------------+--------+---------+-----+-----------+--------------------+\n",
      "\n"
     ]
    }
   ],
   "source": [
    "# Create and run query\n",
    "patchQuery = f\"SELECT * FROM cosmosCatalog.cosmicworks.products WHERE id = '{targetItemId}' AND category = '{targetItemPartitionKey}' \"\n",
    "patchDf = spark.sql(patchQuery)\n",
    "patchDf.show(5)\n"
   ]
  }
 ],
 "metadata": {
  "application/vnd.databricks.v1+notebook": {
   "dashboards": [],
   "language": "python",
   "notebookMetadata": {
    "pythonIndentUnit": 4
   },
   "notebookName": "Lab Sample",
   "widgets": {}
  },
  "language_info": {
   "name": "python"
  }
 },
 "nbformat": 4,
 "nbformat_minor": 0
}
