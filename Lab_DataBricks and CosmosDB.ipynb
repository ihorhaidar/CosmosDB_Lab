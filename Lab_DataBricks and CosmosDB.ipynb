{
 "cells": [
  {
   "cell_type": "code",
   "execution_count": null,
   "metadata": {
    "application/vnd.databricks.v1+cell": {
     "cellMetadata": {
      "byteLimit": 2048000,
      "rowLimit": 10000
     },
     "inputWidgets": {},
     "nuid": "4c71e20d-fff6-452f-9aab-4708a9134477",
     "showTitle": false,
     "title": ""
    }
   },
   "outputs": [],
   "source": [
    "df = spark.read.option(\"multiline\", \"true\").json(\"dbfs:/FileStore/FileStore/movies-1.json\")"
   ]
  },
  {
   "cell_type": "code",
   "execution_count": null,
   "metadata": {
    "application/vnd.databricks.v1+cell": {
     "cellMetadata": {
      "byteLimit": 2048000,
      "rowLimit": 10000
     },
     "inputWidgets": {},
     "nuid": "532d5221-e5e6-42d6-83c3-e1edf537fd2d",
     "showTitle": false,
     "title": ""
    }
   },
   "outputs": [
    {
     "name": "stdout",
     "output_type": "stream",
     "text": [
      "root\n",
      " |-- cast: array (nullable = true)\n",
      " |    |-- element: string (containsNull = true)\n",
      " |-- extract: string (nullable = true)\n",
      " |-- genres: array (nullable = true)\n",
      " |    |-- element: string (containsNull = true)\n",
      " |-- href: string (nullable = true)\n",
      " |-- thumbnail: string (nullable = true)\n",
      " |-- thumbnail_height: long (nullable = true)\n",
      " |-- thumbnail_width: long (nullable = true)\n",
      " |-- title: string (nullable = true)\n",
      " |-- year: long (nullable = true)\n",
      "\n"
     ]
    }
   ],
   "source": [
    "df.printSchema()"
   ]
  },
  {
   "cell_type": "code",
   "execution_count": null,
   "metadata": {
    "application/vnd.databricks.v1+cell": {
     "cellMetadata": {
      "byteLimit": 2048000,
      "rowLimit": 10000
     },
     "inputWidgets": {},
     "nuid": "eb49442f-2673-4120-91a3-dab8a21ccdd3",
     "showTitle": false,
     "title": ""
    }
   },
   "outputs": [
    {
     "name": "stdout",
     "output_type": "stream",
     "text": [
      "+-------------+--------------------+--------------------+--------------------+--------------------+----------------+---------------+--------------------+----+\n",
      "|         cast|             extract|              genres|                href|           thumbnail|thumbnail_height|thumbnail_width|               title|year|\n",
      "+-------------+--------------------+--------------------+--------------------+--------------------+----------------+---------------+--------------------+----+\n",
      "|           []|                NULL|                  []|                NULL|                NULL|            NULL|           NULL|After Dark in Cen...|1900|\n",
      "|           []|                NULL|                  []|                NULL|                NULL|            NULL|           NULL|Boarding School G...|1900|\n",
      "|           []|                NULL|                  []|                NULL|                NULL|            NULL|           NULL|Buffalo Bill's Wi...|1900|\n",
      "|           []|                NULL|                  []|                NULL|                NULL|            NULL|           NULL|              Caught|1900|\n",
      "|           []|Clowns Spinning H...|            [Silent]|Clowns_Spinning_Hats|                NULL|            NULL|           NULL|Clowns Spinning Hats|1900|\n",
      "|           []|Capture of Boer B...|[Short, Documenta...|Capture_of_Boer_B...|https://upload.wi...|             240|            320|Capture of Boer B...|1900|\n",
      "|           []|The Enchanted Dra...|            [Silent]|The_Enchanted_Dra...|https://upload.wi...|             240|            320|The Enchanted Dra...|1900|\n",
      "|[Paul Boyton]|Feeding Sea Lions...|     [Short, Silent]|   Feeding_Sea_Lions|                NULL|            NULL|           NULL|   Feeding Sea Lions|1900|\n",
      "|           []|                NULL|            [Comedy]|                NULL|                NULL|            NULL|           NULL|How to Make a Fat...|1900|\n",
      "|           []|                NULL|                  []|                NULL|                NULL|            NULL|           NULL|     New Life Rescue|1900|\n",
      "+-------------+--------------------+--------------------+--------------------+--------------------+----------------+---------------+--------------------+----+\n",
      "only showing top 10 rows\n",
      "\n"
     ]
    }
   ],
   "source": [
    "df.show(10)"
   ]
  },
  {
   "cell_type": "code",
   "execution_count": null,
   "metadata": {
    "application/vnd.databricks.v1+cell": {
     "cellMetadata": {
      "byteLimit": 2048000,
      "rowLimit": 10000
     },
     "inputWidgets": {},
     "nuid": "c3337f02-7a9f-4e09-ac0d-9e87d3a6c562",
     "showTitle": false,
     "title": ""
    }
   },
   "outputs": [
    {
     "data": {
      "text/plain": [
       "DataFrame[cast: array<string>, extract: string, genres: array<string>, href: string, thumbnail: string, thumbnail_height: bigint, thumbnail_width: bigint, title: string, year: bigint]"
      ]
     },
     "execution_count": 4,
     "metadata": {},
     "output_type": "execute_result"
    }
   ],
   "source": [
    "df.na.drop()"
   ]
  },
  {
   "cell_type": "code",
   "execution_count": null,
   "metadata": {
    "application/vnd.databricks.v1+cell": {
     "cellMetadata": {
      "byteLimit": 2048000,
      "rowLimit": 10000
     },
     "inputWidgets": {},
     "nuid": "bb30aecc-ba84-4a34-baa4-aa6ca7329182",
     "showTitle": false,
     "title": ""
    }
   },
   "outputs": [],
   "source": [
    "df = df.dropDuplicates([\"title\", \"year\"])"
   ]
  },
  {
   "cell_type": "code",
   "execution_count": null,
   "metadata": {
    "application/vnd.databricks.v1+cell": {
     "cellMetadata": {
      "byteLimit": 2048000,
      "rowLimit": 10000
     },
     "inputWidgets": {},
     "nuid": "52db782e-3956-435c-a274-10a54338a76b",
     "showTitle": false,
     "title": ""
    }
   },
   "outputs": [
    {
     "name": "stdout",
     "output_type": "stream",
     "text": [
      "+--------------------+--------------------+--------------------+--------------------+--------------------+----------------+---------------+--------------------+----+-------+\n",
      "|                cast|             extract|              genres|                href|           thumbnail|thumbnail_height|thumbnail_width|               title|year|centure|\n",
      "+--------------------+--------------------+--------------------+--------------------+--------------------+----------------+---------------+--------------------+----+-------+\n",
      "|                  []|                NULL|                  []|                NULL|                NULL|            NULL|           NULL| The Automobile Race|1904|     20|\n",
      "|                  []|Mrs. Jones Entert...|[Comedy, Short, S...|Mrs._Jones_Entert...|https://upload.wi...|             189|            320|Mrs. Jones Entert...|1909|     20|\n",
      "|                  []|                NULL|                  []|                NULL|                NULL|            NULL|           NULL|The Old Soldier's...|1909|     20|\n",
      "|                  []|A Wreath in Time ...|    [Comedy, Silent]|    A_Wreath_in_Time|https://upload.wi...|             226|            320|    A Wreath in Time|1909|     20|\n",
      "|[Edgar G. Wynn, E...|Brown of Harvard ...|     [Drama, Silent]|Brown_of_Harvard_...|https://upload.wi...|             473|            320|    Brown of Harvard|1911|     20|\n",
      "+--------------------+--------------------+--------------------+--------------------+--------------------+----------------+---------------+--------------------+----+-------+\n",
      "only showing top 5 rows\n",
      "\n"
     ]
    }
   ],
   "source": [
    "from pyspark.sql.functions import when;\n",
    "df = df.withColumn(\"centure\", when(df[\"year\"] >= 2000, \"21\").otherwise(\"20\"))\n",
    "df.show(5)"
   ]
  },
  {
   "cell_type": "code",
   "execution_count": null,
   "metadata": {
    "application/vnd.databricks.v1+cell": {
     "cellMetadata": {
      "byteLimit": 2048000,
      "rowLimit": 10000
     },
     "inputWidgets": {},
     "nuid": "fc135132-76fb-406f-aaa3-94372749e413",
     "showTitle": false,
     "title": ""
    }
   },
   "outputs": [
    {
     "name": "stdout",
     "output_type": "stream",
     "text": [
      "+--------------------+--------------------+--------------------+--------------------+--------------------+----------------+---------------+--------------------+----+-------+\n",
      "|                cast|             extract|              genres|                href|           thumbnail|thumbnail_height|thumbnail_width|               title|year|centure|\n",
      "+--------------------+--------------------+--------------------+--------------------+--------------------+----------------+---------------+--------------------+----+-------+\n",
      "|[Jesse Eisenberg,...|American Ultra is...|    [Action, Comedy]|      American_Ultra|https://upload.wi...|             380|            256|      American Ultra|2015|     21|\n",
      "|[Ryan Reynolds, J...|Pokémon Detective...|[Comedy, Fantasy,...|Detective_Pikachu...|https://upload.wi...|             385|            260|Pokémon Detective...|2019|     21|\n",
      "|[Amy Ryan, Nick R...|Strange but True ...|          [Thriller]|Strange_but_True_...|https://upload.wi...|             383|            259|    Strange but True|2019|     21|\n",
      "+--------------------+--------------------+--------------------+--------------------+--------------------+----------------+---------------+--------------------+----+-------+\n",
      "only showing top 3 rows\n",
      "\n"
     ]
    }
   ],
   "source": [
    "df_filtered = df.filter((df.year >= 2015))\n",
    "df_filtered.show(3)"
   ]
  },
  {
   "cell_type": "code",
   "execution_count": null,
   "metadata": {
    "application/vnd.databricks.v1+cell": {
     "cellMetadata": {
      "byteLimit": 2048000,
      "rowLimit": 10000
     },
     "inputWidgets": {},
     "nuid": "605e830b-b3fc-47ac-977b-70255ab5df79",
     "showTitle": false,
     "title": ""
    }
   },
   "outputs": [
    {
     "data": {
      "text/plain": [
       "DataFrame[]"
      ]
     },
     "execution_count": 8,
     "metadata": {},
     "output_type": "execute_result"
    }
   ],
   "source": [
    "config = {\n",
    "    \"spark.cosmos.accountEndpoint\": \"https://it-step-cosmos-db2.documents.azure.com:443/\",\n",
    "    \"spark.cosmos.accountKey\": \"\",\n",
    "    \"spark.cosmos.database\": \"MediaDB\",\n",
    "    \"spark.cosmos.container\": \"Movies\"\n",
    "}\n",
    "\n",
    "spark.conf.set(\"spark.sql.catalog.cosmosCatalog\", \"com.azure.cosmos.spark.CosmosCatalog\")\n",
    "spark.conf.set(\"spark.sql.catalog.cosmosCatalog.spark.cosmos.accountEndpoint\", config[\"spark.cosmos.accountEndpoint\"])\n",
    "spark.conf.set(\"spark.sql.catalog.cosmosCatalog.spark.cosmos.accountKey\", config[\"spark.cosmos.accountKey\"])\n",
    "\n",
    "spark.sql(\"CREATE DATABASE IF NOT EXISTS cosmosCatalog.MediaDB;\")"
   ]
  },
  {
   "cell_type": "code",
   "execution_count": null,
   "metadata": {
    "application/vnd.databricks.v1+cell": {
     "cellMetadata": {
      "byteLimit": 2048000,
      "rowLimit": 10000
     },
     "inputWidgets": {},
     "nuid": "0682e20f-2be2-48a3-9c51-2656dc7cbd15",
     "showTitle": false,
     "title": ""
    }
   },
   "outputs": [
    {
     "data": {
      "text/plain": [
       "DataFrame[]"
      ]
     },
     "execution_count": 9,
     "metadata": {},
     "output_type": "execute_result"
    }
   ],
   "source": [
    "spark.sql(\"CREATE TABLE IF NOT EXISTS cosmosCatalog.MediaDB.Movies USING cosmos.oltp TBLPROPERTIES(partitionKeyPath = '/category', autoScaleMaxThroughput = '1000')\")"
   ]
  },
  {
   "cell_type": "code",
   "execution_count": null,
   "metadata": {
    "application/vnd.databricks.v1+cell": {
     "cellMetadata": {
      "byteLimit": 2048000,
      "rowLimit": 10000
     },
     "inputWidgets": {},
     "nuid": "8aad1150-b700-414d-9558-95ed8e9da73d",
     "showTitle": false,
     "title": ""
    }
   },
   "outputs": [
    {
     "name": "stdout",
     "output_type": "stream",
     "text": [
      "+--------------------+--------------------+--------------------+--------------------+--------------------+----------------+---------------+--------------------+----+-------+---+\n",
      "|                cast|             extract|              genres|                href|           thumbnail|thumbnail_height|thumbnail_width|               title|year|centure| id|\n",
      "+--------------------+--------------------+--------------------+--------------------+--------------------+----------------+---------------+--------------------+----+-------+---+\n",
      "|                  []|                NULL|                  []|                NULL|                NULL|            NULL|           NULL| The Automobile Race|1904|     20|  0|\n",
      "|                  []|Mrs. Jones Entert...|[Comedy, Short, S...|Mrs._Jones_Entert...|https://upload.wi...|             189|            320|Mrs. Jones Entert...|1909|     20|  1|\n",
      "|                  []|                NULL|                  []|                NULL|                NULL|            NULL|           NULL|The Old Soldier's...|1909|     20|  2|\n",
      "|                  []|A Wreath in Time ...|    [Comedy, Silent]|    A_Wreath_in_Time|https://upload.wi...|             226|            320|    A Wreath in Time|1909|     20|  3|\n",
      "|[Edgar G. Wynn, E...|Brown of Harvard ...|     [Drama, Silent]|Brown_of_Harvard_...|https://upload.wi...|             473|            320|    Brown of Harvard|1911|     20|  4|\n",
      "+--------------------+--------------------+--------------------+--------------------+--------------------+----------------+---------------+--------------------+----+-------+---+\n",
      "only showing top 5 rows\n",
      "\n"
     ]
    }
   ],
   "source": [
    "from pyspark.sql.functions import monotonically_increasing_id\n",
    "\n",
    "df = df.withColumn(\"id\", monotonically_increasing_id().cast(\"string\"))\n",
    "df.show(5)\n"
   ]
  },
  {
   "cell_type": "code",
   "execution_count": null,
   "metadata": {
    "application/vnd.databricks.v1+cell": {
     "cellMetadata": {
      "byteLimit": 2048000,
      "rowLimit": 10000
     },
     "inputWidgets": {},
     "nuid": "cee80caa-8762-4bcc-b897-c3a344dfe47b",
     "showTitle": false,
     "title": ""
    }
   },
   "outputs": [],
   "source": [
    "writeConfig = {\n",
    "    \"spark.cosmos.accountEndpoint\": \"https://it-step-cosmos-db2.documents.azure.com:443/\",\n",
    "    \"spark.cosmos.accountKey\": \"\",\n",
    "    \"spark.cosmos.database\": \"MediaDB\",\n",
    "    \"spark.cosmos.container\": \"Movies\",\n",
    "    \"spark.cosmos.write.strategy\": \"ItemOverwrite\"\n",
    "}\n",
    "\n",
    "df.write.format(\"cosmos.oltp\").options(**writeConfig).mode(\"Append\").save()"
   ]
  },
  {
   "cell_type": "code",
   "execution_count": null,
   "metadata": {
    "application/vnd.databricks.v1+cell": {
     "cellMetadata": {
      "byteLimit": 2048000,
      "rowLimit": 10000
     },
     "inputWidgets": {},
     "nuid": "02e4f4dc-dffe-47a1-ac43-b054051a3fba",
     "showTitle": false,
     "title": ""
    }
   },
   "outputs": [
    {
     "data": {
      "text/plain": [
       "36243"
      ]
     },
     "execution_count": 33,
     "metadata": {},
     "output_type": "execute_result"
    }
   ],
   "source": [
    "df.count()"
   ]
  },
  {
   "cell_type": "code",
   "execution_count": null,
   "metadata": {
    "application/vnd.databricks.v1+cell": {
     "cellMetadata": {
      "byteLimit": 2048000,
      "rowLimit": 10000
     },
     "inputWidgets": {},
     "nuid": "b327127a-d4a9-4345-b02e-6d9324e57012",
     "showTitle": false,
     "title": ""
    }
   },
   "outputs": [],
   "source": [
    "readConfig = {\n",
    "    \"spark.cosmos.accountEndpoint\": \"https://it-step-cosmos-db2.documents.azure.com:443/\",\n",
    "    \"spark.cosmos.accountKey\": \"\",\n",
    "    \"spark.cosmos.database\": \"MediaDB\",\n",
    "    \"spark.cosmos.container\": \"Movies\"\n",
    "}\n",
    "df1 = spark.read.format(\"cosmos.oltp\").options(**readConfig).load()"
   ]
  },
  {
   "cell_type": "code",
   "execution_count": null,
   "metadata": {
    "application/vnd.databricks.v1+cell": {
     "cellMetadata": {
      "byteLimit": 2048000,
      "rowLimit": 10000
     },
     "inputWidgets": {},
     "nuid": "d226f6ba-5fe1-454f-b688-5be0097997ce",
     "showTitle": false,
     "title": ""
    }
   },
   "outputs": [
    {
     "data": {
      "text/plain": [
       "36243"
      ]
     },
     "execution_count": 35,
     "metadata": {},
     "output_type": "execute_result"
    }
   ],
   "source": [
    "df1.count()"
   ]
  },
  {
   "cell_type": "code",
   "execution_count": null,
   "metadata": {
    "application/vnd.databricks.v1+cell": {
     "cellMetadata": {
      "byteLimit": 2048000,
      "rowLimit": 10000
     },
     "inputWidgets": {},
     "nuid": "d8b0acf5-3e2c-4836-a2fd-c7bc26fa8357",
     "showTitle": false,
     "title": ""
    }
   },
   "outputs": [
    {
     "name": "stdout",
     "output_type": "stream",
     "text": [
      "+-------+----+--------------------+-----------+--------------------+-----------------+---------------+--------------------+--------------------+----------------+--------------------+\n",
      "|centure|year|           thumbnail|         id|                cast|           genres|thumbnail_width|               title|                href|thumbnail_height|             extract|\n",
      "+-------+----+--------------------+-----------+--------------------+-----------------+---------------+--------------------+--------------------+----------------+--------------------+\n",
      "|     20|1939|https://upload.wi...|       1716|[Joe E. Brown, Ma...|         [Comedy]|            259|  $1,000 a Touchdown|  $1,000_a_Touchdown|             385|$1,000 a Touchdow...|\n",
      "|     20|1935|                NULL|       8120|[Edward Everett H...|         [Comedy]|           NULL|           $10 Raise|           $10_Raise|            NULL|$10 Raise is a 19...|\n",
      "|     20|1921|                NULL| 8589938995|                  []|       [Animated]|           NULL|$10,000 Under a P...|                NULL|            NULL|                NULL|\n",
      "|     20|1918|                NULL| 8589940970|[Franklyn Farnum,...|        [Mystery]|           NULL|       $5,000 Reward|                NULL|            NULL|                NULL|\n",
      "|     20|1924|https://upload.wi...|       3820|[Ken Maynard, Est...|[Western, Silent]|            320|      $50,000 Reward|      $50,000_Reward|             480|$50,000 Reward is...|\n",
      "|     20|1917|                NULL|       2361|[Joseph W. Girard...|[Western, Silent]|           NULL|             '49–'17| %2749%E2%80%93%2717|            NULL|'49–'17 is a 1917...|\n",
      "|     20|1988|https://upload.wi...|17179870555|[Jan MacKenzie, J...|         [Action]|            316|'Gator Bait II: C...|%27Gator_Bait_II:...|             316|'Gator Bait II: C...|\n",
      "|     20|1940|https://upload.wi...|17179872628|[Merle Oberon, Pa...| [Drama, Romance]|            320|  'Til We Meet Again|%27Til_We_Meet_Again|             251|'Til We Meet Agai...|\n",
      "|     20|1988|https://upload.wi...| 8589940173|[Shony Alex Braun...|          [Drama]|            207|                 '68|        %2768_(film)|             300| '68 is a 1988 dr...|\n",
      "|     20|1918|https://upload.wi...| 8589942576|[William S. Hart,...|  [Drama, Silent]|            320|'Blue Blazes' Rawden|%27Blue_Blazes%27...|             476|'Blue Blazes' Raw...|\n",
      "+-------+----+--------------------+-----------+--------------------+-----------------+---------------+--------------------+--------------------+----------------+--------------------+\n",
      "only showing top 10 rows\n",
      "\n"
     ]
    }
   ],
   "source": [
    "df1.show(10)"
   ]
  },
  {
   "cell_type": "code",
   "execution_count": null,
   "metadata": {
    "application/vnd.databricks.v1+cell": {
     "cellMetadata": {
      "byteLimit": 2048000,
      "rowLimit": 10000
     },
     "inputWidgets": {},
     "nuid": "8ac45d72-edaf-4f96-b329-a67cfe82b355",
     "showTitle": false,
     "title": ""
    }
   },
   "outputs": [
    {
     "name": "stdout",
     "output_type": "stream",
     "text": [
      "+-------+----+--------------------+-----------+--------------------+--------------------+---------------+--------------------+--------------------+----------------+--------------------+\n",
      "|centure|year|           thumbnail|         id|                cast|              genres|thumbnail_width|               title|                href|thumbnail_height|             extract|\n",
      "+-------+----+--------------------+-----------+--------------------+--------------------+---------------+--------------------+--------------------+----------------+--------------------+\n",
      "|     21|2015|https://upload.wi...|       6072|[Simon Abkarian, ...|          [Thriller]|            256|                1915|         1915_(film)|             380|1915 is a 2015 Am...|\n",
      "|     21|2015|https://upload.wi...|25769809621|[Amber Tamblyn, W...|             [Drama]|            259|3 Nights in the D...|3_Nights_in_the_D...|             384|3 Nights in the D...|\n",
      "|     21|2015|https://upload.wi...|       6595|[Andrew Garfield,...|             [Drama]|            260|            99 Homes|            99_Homes|             383|99 Homes is a 201...|\n",
      "|     21|2015|https://upload.wi...|       1638|[Rose Byrne, Nick...|     [Comedy, Drama]|            259|     Adult Beginners|     Adult_Beginners|             384|Adult Beginners i...|\n",
      "|     21|2015|https://upload.wi...| 8589940038|[Jessica Biel, Ja...|   [Comedy, Romance]|            220|     Accidental Love|     Accidental_Love|             338|Accidental Love i...|\n",
      "|     21|2015|https://upload.wi...|25769805083|[Mary Elizabeth W...|             [Drama]|            258|      Alex of Venice|      Alex_of_Venice|             387|Alex of Venice is...|\n",
      "|     21|2015|https://upload.wi...|17179875854|[Bradley Cooper, ...|   [Comedy, Romance]|            253|               Aloha|   Aloha_(2015_film)|             394|Aloha is a 2015 A...|\n",
      "|     21|2015|https://upload.wi...|17179869868|[Jason Lee, Tony ...|   [Comedy, Musical]|            259|Alvin and the Chi...|Alvin_and_the_Chi...|             384|Alvin and the Chi...|\n",
      "|     21|2015|https://upload.wi...|       1639|     [Amy Winehouse]|       [Documentary]|            220|                 Amy|     Amy_(2015_film)|             310|Amy is a 2015 Bri...|\n",
      "|     21|2015|https://upload.wi...| 8589937695|[David Thewlis, J...|[Animated, Comedy...|            260|           Anomalisa|           Anomalisa|             385|Anomalisa is a 20...|\n",
      "|     21|2015|https://upload.wi...| 8589938066|[Paul Rudd, Evang...|         [Superhero]|            220|             Ant-Man|      Ant-Man_(film)|             326|Ant-Man is a 2015...|\n",
      "|     21|2015|https://upload.wi...|17179874569|[Robert Downey Jr...|         [Superhero]|            220|Avengers: Age of ...|Avengers:_Age_of_...|             326|Avengers: Age of ...|\n",
      "|     21|2015|https://upload.wi...|17179874571|[Idris Elba, Kurt...|        [Drama, War]|            220| Beasts of No Nation|Beasts_of_No_Nati...|             326|Beasts of No Nati...|\n",
      "|     21|2015|https://upload.wi...|       7336|[Chris Evans, Ali...|    [Drama, Romance]|            256|        Before We Go|        Before_We_Go|             380|Before We Go is a...|\n",
      "|     21|2015|https://upload.wi...| 8589936411|[Hailee Steinfeld...|    [Action, Comedy]|            260|       Barely Lethal|       Barely_Lethal|             384|Barely Lethal is ...|\n",
      "|     21|2015|https://upload.wi...|17179876066|[Johnny Depp, Joe...|[Crime, Drama, Bi...|            256|          Black Mass|   Black_Mass_(film)|             380|Black Mass is a 2...|\n",
      "|     21|2015|https://upload.wi...|       8932|[Chris Hemsworth,...|  [Action, Thriller]|            251|            Blackhat|     Blackhat_(film)|             396|Blackhat is a 201...|\n",
      "|     21|2015|https://upload.wi...|25769811865|[Kevin Costner, O...|             [Drama]|            254|      Black or White|Black_or_White_(f...|             392|Black or White is...|\n",
      "|     21|2015|https://upload.wi...|        357|[Kurt Russell, Pa...|           [Western]|            250|       Bone Tomahawk|       Bone_Tomahawk|             369|Bone Tomahawk is ...|\n",
      "|     21|2015|https://upload.wi...|17179877154|[Robin Williams, ...|             [Drama]|            260|           Boulevard|Boulevard_(2014_f...|             384|Boulevard is a 20...|\n",
      "+-------+----+--------------------+-----------+--------------------+--------------------+---------------+--------------------+--------------------+----------------+--------------------+\n",
      "only showing top 20 rows\n",
      "\n"
     ]
    }
   ],
   "source": [
    "df1.createOrReplaceTempView(\"cosmos_view\"); spark.sql(\"SELECT * FROM cosmos_view WHERE year = '2015'\").show()"
   ]
  }
 ],
 "metadata": {
  "application/vnd.databricks.v1+notebook": {
   "dashboards": [],
   "language": "python",
   "notebookMetadata": {
    "pythonIndentUnit": 4
   },
   "notebookName": "Lab \"DataBricks and CosmosDB\"",
   "widgets": {}
  },
  "language_info": {
   "name": "python"
  }
 },
 "nbformat": 4,
 "nbformat_minor": 0
}
